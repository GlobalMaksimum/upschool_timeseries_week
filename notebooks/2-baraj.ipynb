{
 "cells": [
  {
   "cell_type": "code",
   "execution_count": 32,
   "metadata": {},
   "outputs": [],
   "source": [
    "import pandas as pd\n",
    "import numpy as np\n",
    "import altair as alt\n",
    "import matplotlib.pyplot as plt\n",
    "%matplotlib inline\n",
    "\n",
    "import lightgbm as lgb\n",
    "from sklearn.linear_model import LinearRegression\n",
    "from sklearn.ensemble import RandomForestRegressor\n",
    "\n",
    "from sklearn.model_selection import TimeSeriesSplit\n",
    "from sklearn.metrics import mean_squared_error\n",
    "\n",
    "import missingno as msno"
   ]
  },
  {
   "cell_type": "code",
   "execution_count": 33,
   "metadata": {},
   "outputs": [],
   "source": [
    "# full_df = pd.read_csv('data/baraj_doluluk.csv')"
   ]
  },
  {
   "cell_type": "code",
   "execution_count": 34,
   "metadata": {},
   "outputs": [],
   "source": [
    "# full_df.head()"
   ]
  },
  {
   "cell_type": "code",
   "execution_count": 35,
   "metadata": {},
   "outputs": [],
   "source": [
    "# full_df.rename(columns = {'GENERAL_DAM_RESERVED_WATER':'target','DATE':'date','GENERAL_DAM_OCCUPANCY_RATE':'rate'},inplace=True)"
   ]
  },
  {
   "cell_type": "code",
   "execution_count": 36,
   "metadata": {},
   "outputs": [],
   "source": [
    "# full_df.head()"
   ]
  },
  {
   "cell_type": "code",
   "execution_count": 37,
   "metadata": {},
   "outputs": [],
   "source": [
    "# full_df.date = pd.to_datetime(full_df.date)"
   ]
  },
  {
   "cell_type": "code",
   "execution_count": 38,
   "metadata": {},
   "outputs": [],
   "source": [
    "path = \"https://data.ibb.gov.tr/dataset/19c14482-14f2-4803-b4df-4cf4c6c42016/resource/32ecf1d1-9fa6-4f29-bc48-eb997f41a483/download/baraj-doluluk-oranlari.csv\"\n",
    "\n",
    "def prep_data(url=url):\n",
    "    df = pd.read_csv(path)\n",
    "    df.rename(columns = {'GENERAL_DAM_RESERVED_WATER':'water','DATE':'date','GENERAL_DAM_OCCUPANCY_RATE':'target'},inplace=True)\n",
    "    df.date = pd.to_datetime(df.date)\n",
    "    \n",
    "    #Get Rid of drastic drop in 2014\n",
    "    df = df[(df.date>'2015-01-01')].reset_index(drop=True)\n",
    "    \n",
    "    return df"
   ]
  },
  {
   "cell_type": "code",
   "execution_count": 39,
   "metadata": {},
   "outputs": [],
   "source": [
    "df = prep_data()"
   ]
  },
  {
   "cell_type": "code",
   "execution_count": 40,
   "metadata": {},
   "outputs": [
    {
     "data": {
      "text/plain": [
       "<matplotlib.axes._subplots.AxesSubplot at 0x7ff22b5b7790>"
      ]
     },
     "execution_count": 40,
     "metadata": {},
     "output_type": "execute_result"
    },
    {
     "data": {
      "image/png": "[encoded data removed]",
      "text/plain": [
       "<Figure size 432x288 with 1 Axes>"
      ]
     },
     "metadata": {
      "needs_background": "light"
     },
     "output_type": "display_data"
    }
   ],
   "source": [
    "df.plot(x='date',y='target')"
   ]
  },
  {
   "cell_type": "code",
   "execution_count": 41,
   "metadata": {},
   "outputs": [],
   "source": [
    "def dt_feats(df,date_col='date'):\n",
    "    \n",
    "    df['day'] = df[date_col].dt.day\n",
    "    df['month'] = df[date_col].dt.month\n",
    "    df['year'] = df[date_col].dt.year\n",
    "    df['week'] = df[date_col].dt.week\n",
    "    df['dow'] = df[date_col].dt.dayofweek #dayofweek\n",
    "    df['doy'] = df[date_col].dt.dayofyear #dayofyear\n",
    "    \n",
    "    return df"
   ]
  },
  {
   "cell_type": "code",
   "execution_count": 42,
   "metadata": {},
   "outputs": [],
   "source": [
    "aggs = [['month','dow'],['month','day'],['year','day'],['year','dow']] #['year','month']\n",
    "\n",
    "def calc_aggs(df,aggs,train_ix):\n",
    "    \n",
    "    for grp in aggs:\n",
    "        grp_name = '_'.join(grp)\n",
    "        grp_df = df.iloc[train_ix].groupby(grp).target.agg(['mean','std']).reset_index().rename(columns={'mean':f'{grp_name}_mean','std':f'{grp_name}_std'})\n",
    "        df = df.merge(grp_df,how='left',on=grp)\n",
    "        df.fillna({f'{grp_name}_mean':grp_df[f'{grp_name}_mean'].median()},inplace=True)\n",
    "        df.fillna({f'{grp_name}_std':grp_df[f'{grp_name}_std'].median()},inplace=True)\n",
    "    \n",
    "    return df"
   ]
  },
  {
   "cell_type": "code",
   "execution_count": 43,
   "metadata": {},
   "outputs": [],
   "source": [
    "#You can change test/val period size.\n",
    "period = 30\n",
    "def form_splits(df,n_folds,period=period):\n",
    "    indices = []\n",
    "    for n in range(n_folds):\n",
    "        val = df[-(n+1)*period-period:-n*period-period]\n",
    "        val_ix = df[(full_df.date>=val.date.min()) & (df.date<=val.date.max())].index.tolist()\n",
    "        train_ix = df[:val_ix[0]].index.tolist()\n",
    "        \n",
    "        indices.append((train_ix,val_ix))\n",
    "    \n",
    "    return indices"
   ]
  },
  {
   "cell_type": "code",
   "execution_count": 44,
   "metadata": {},
   "outputs": [],
   "source": [
    "def calc_lags(df,use_col,lags):\n",
    "    \n",
    "    for lag in lags:\n",
    "        full_df[f'lag_{lag}'] = full_df[use_col].shift(lag)\n",
    "    return full_df"
   ]
  },
  {
   "cell_type": "code",
   "execution_count": 45,
   "metadata": {},
   "outputs": [],
   "source": [
    "full_df = prep_data()\n",
    "splits = form_splits(full_df,n_folds=2)\n",
    "\n",
    "del full_df"
   ]
  },
  {
   "cell_type": "code",
   "execution_count": 54,
   "metadata": {},
   "outputs": [],
   "source": [
    "params = {'n_estimators': 100,\n",
    "          'objecive':'regression',\n",
    "          'subsample':0.75,\n",
    "          #'learning_rate':0.001,\n",
    "          'max_depth':6,\n",
    "          #'num_leaves':10000,\n",
    "          'metric':'mape'\n",
    "          }"
   ]
  },
  {
   "cell_type": "markdown",
   "metadata": {},
   "source": [
    "### Time Series Cross Val"
   ]
  },
  {
   "cell_type": "code",
   "execution_count": 55,
   "metadata": {},
   "outputs": [],
   "source": [
    "pred_df = pd.DataFrame()\n",
    "pred_df['target'] = prep_data()['target']\n",
    "pred_df['pred'] = np.nan"
   ]
  },
  {
   "cell_type": "code",
   "execution_count": 56,
   "metadata": {},
   "outputs": [
    {
     "name": "stdout",
     "output_type": "stream",
     "text": [
      "\n",
      "Fold 1 \n",
      "=================================\n",
      "Train Size: 1946 Val Size: 30\n",
      "Training until validation scores don't improve for 10 rounds\n",
      "[10]\tvalid_0's mape: 0.0135924\n",
      "[20]\tvalid_0's mape: 0.0376238\n",
      "Early stopping, best iteration is:\n",
      "[12]\tvalid_0's mape: 0.0099234\n",
      "Prediction Fold 1\n",
      "Fold 1 RMSE:  0.8333833933247152\n",
      "\n",
      "Fold 2 \n",
      "=================================\n",
      "Train Size: 1916 Val Size: 30\n"
     ]
    },
    {
     "name": "stderr",
     "output_type": "stream",
     "text": [
      "/home/dorukhan/anaconda2/envs/py37/lib/python3.7/site-packages/pandas/core/indexing.py:205: SettingWithCopyWarning: \n",
      "A value is trying to be set on a copy of a slice from a DataFrame\n",
      "\n",
      "See the caveats in the documentation: http://pandas.pydata.org/pandas-docs/stable/user_guide/indexing.html#returning-a-view-versus-a-copy\n",
      "  self._setitem_with_indexer(indexer, value)\n",
      "/home/dorukhan/anaconda2/envs/py37/lib/python3.7/site-packages/lightgbm/engine.py:148: UserWarning: Found `n_estimators` in params. Will use it instead of argument\n",
      "  warnings.warn(\"Found `{}` in params. Will use it instead of argument\".format(alias))\n"
     ]
    },
    {
     "name": "stdout",
     "output_type": "stream",
     "text": [
      "Training until validation scores don't improve for 10 rounds\n",
      "[10]\tvalid_0's mape: 0.045694\n",
      "Early stopping, best iteration is:\n",
      "[2]\tvalid_0's mape: 0.0174715\n",
      "Prediction Fold 2\n",
      "Fold 2 RMSE:  1.8700122120121179\n",
      "\n",
      "Time Series CV RMSE: 1.3516978026684165\n"
     ]
    }
   ],
   "source": [
    "scores = []\n",
    "for fold,(train_ix,val_ix) in enumerate(splits):\n",
    "    print(f'\\nFold {fold+1} \\n=================================')\n",
    "    print(f'Train Size: {len(train_ix)}',f'Val Size: {len(val_ix)}')\n",
    "    \n",
    "    full_df = prep_data()\n",
    "    full_df['known'] = full_df.target\n",
    "    \n",
    "    full_df = dt_feats(full_df)\n",
    "    \n",
    "    #TODO calc lags\n",
    "    full_df.known.iloc[val_ix] = np.nan\n",
    "    full_df = calc_lags(full_df,use_col='known',lags=[120,150,360,720])\n",
    "    \n",
    "    full_df = dt_feats(full_df)\n",
    "    #full_df = calc_aggs(full_df,aggs,train_ix)\n",
    "    \n",
    "    train_df,val_df = full_df.iloc[train_ix],full_df.iloc[val_ix]\n",
    "    \n",
    "    feats = full_df.columns.difference(['date','water','target','known'])\n",
    "    \n",
    "    del full_df\n",
    "    \n",
    "    train_y,val_y = train_df.target.values,val_df.target.values\n",
    "    train_X,val_X = train_df[feats],val_df[feats]\n",
    "    \n",
    "    #NECESSARY CHECKS\n",
    "    assert train_X.shape[0] == train_y.shape[0]\n",
    "    assert val_X.shape[0] == val_y.shape[0]\n",
    "    assert train_X.shape[1] == val_X.shape[1]\n",
    "    \n",
    "    #LGB PREP\n",
    "    train_dset = lgb.Dataset(train_X,label=train_y)\n",
    "    valid_dset = lgb.Dataset(val_X,label=val_y)\n",
    "    \n",
    "    \n",
    "    #LGB MODEL\n",
    "    model = lgb.train(params,train_dset,valid_sets=[valid_dset],early_stopping_rounds=10,verbose_eval=10)\n",
    "    \n",
    "    print(f'Prediction Fold {fold + 1}')\n",
    "    preds = model.predict(val_X)\n",
    "    \n",
    "    assert preds.shape[0] == val_y.shape[0] \n",
    "    \n",
    "    pred_df.pred.iloc[val_ix] = preds\n",
    "    \n",
    "    fold_score = np.sqrt(mean_squared_error(val_y,preds))\n",
    "    scores.append(fold_score)\n",
    "    print(f'Fold {fold+1} RMSE: ',fold_score)\n",
    "    \n",
    " \n",
    "#     MODEL FITTING STAGE (Linear Reg)\n",
    "#     model = LinearRegression(normalize=True)\n",
    "#     print(f'Fitting Fold {fold+1} Model...')\n",
    "#     model.fit(train_X,train_y)\n",
    "#     print(f'Prediction Fold {fold + 1}')\n",
    "#     preds = model.predict(val_X)\n",
    "    \n",
    "#     assert preds.shape[0] == val_y.shape[0] \n",
    "    \n",
    "#     fold_score = np.sqrt(mean_squared_error(val_y,preds))\n",
    "#     scores.append(fold_score)\n",
    "#     print(f'Fold {fold+1} RMSE: ',fold_score)\n",
    "    \n",
    "    \n",
    "    \n",
    "print(f'\\nTime Series CV RMSE:', np.mean(scores))"
   ]
  },
  {
   "cell_type": "code",
   "execution_count": 57,
   "metadata": {},
   "outputs": [
    {
     "data": {
      "text/plain": [
       "<matplotlib.axes._subplots.AxesSubplot at 0x7ff22e8a0250>"
      ]
     },
     "execution_count": 57,
     "metadata": {},
     "output_type": "execute_result"
    },
    {
     "data": {
      "image/png": "[encoded data removed]",
      "text/plain": [
       "<Figure size 432x288 with 1 Axes>"
      ]
     },
     "metadata": {
      "needs_background": "light"
     },
     "output_type": "display_data"
    }
   ],
   "source": [
    "lgb.plot_importance(model)"
   ]
  },
  {
   "cell_type": "markdown",
   "metadata": {},
   "source": [
    "### Test Prediction"
   ]
  },
  {
   "cell_type": "code",
   "execution_count": 58,
   "metadata": {},
   "outputs": [
    {
     "name": "stderr",
     "output_type": "stream",
     "text": [
      "/home/dorukhan/anaconda2/envs/py37/lib/python3.7/site-packages/pandas/core/indexing.py:205: SettingWithCopyWarning: \n",
      "A value is trying to be set on a copy of a slice from a DataFrame\n",
      "\n",
      "See the caveats in the documentation: http://pandas.pydata.org/pandas-docs/stable/user_guide/indexing.html#returning-a-view-versus-a-copy\n",
      "  self._setitem_with_indexer(indexer, value)\n",
      "/home/dorukhan/anaconda2/envs/py37/lib/python3.7/site-packages/lightgbm/engine.py:148: UserWarning: Found `n_estimators` in params. Will use it instead of argument\n",
      "  warnings.warn(\"Found `{}` in params. Will use it instead of argument\".format(alias))\n"
     ]
    },
    {
     "name": "stdout",
     "output_type": "stream",
     "text": [
      "Prediction Test\n"
     ]
    }
   ],
   "source": [
    "params = {'n_estimators': 100,\n",
    "          'objecive':'regression',\n",
    "          'subsample':0.7,\n",
    "          #'learning_rate':0.01,\n",
    "          'max_depth':6,\n",
    "          }\n",
    "\n",
    "full_df = prep_data()\n",
    "full_df['known'] = full_df.target\n",
    "\n",
    "full_df = dt_feats(full_df)\n",
    "\n",
    "test_ix = list(full_df.tail(period).index)\n",
    "full_df.known.iloc[test_ix] = np.nan\n",
    "full_df = calc_lags(full_df,use_col='known',lags=[120,150,360,720])\n",
    "    \n",
    "full_df = dt_feats(full_df)\n",
    "#full_df = calc_aggs(full_df,aggs,train_ix)\n",
    "    \n",
    "train_df,test_df = full_df.iloc[:test_ix[0]],full_df.iloc[test_ix]\n",
    "    \n",
    "feats = full_df.columns.difference(['date','water','target','known'])\n",
    "    \n",
    "train_y,test_y = train_df.target.values,test_df.target.values\n",
    "train_X,test_X = train_df[feats].values,test_df[feats].values\n",
    "    \n",
    "#NECESSARY CHECKS\n",
    "assert train_X.shape[0] == train_y.shape[0]\n",
    "assert test_X.shape[0] == test_y.shape[0]\n",
    "assert train_X.shape[1] == test_X.shape[1]\n",
    "    \n",
    "#LGB PREP\n",
    "train_dset = lgb.Dataset(train_X,label=train_y)\n",
    "    \n",
    "    \n",
    "#LGB MODEL\n",
    "model = lgb.train(params,train_dset)\n",
    "    \n",
    "print(f'Prediction Test')\n",
    "preds = model.predict(test_X)\n",
    "\n",
    "pred_df.pred.iloc[test_ix] = preds\n",
    "    \n",
    "assert preds.shape[0] == test_y.shape[0] "
   ]
  },
  {
   "cell_type": "code",
   "execution_count": 59,
   "metadata": {},
   "outputs": [
    {
     "data": {
      "text/plain": [
       "1.3396153423653263"
      ]
     },
     "execution_count": 59,
     "metadata": {},
     "output_type": "execute_result"
    }
   ],
   "source": [
    "np.sqrt(mean_squared_error(test_y,preds))"
   ]
  },
  {
   "cell_type": "code",
   "execution_count": 60,
   "metadata": {},
   "outputs": [
    {
     "data": {
      "text/plain": [
       "<matplotlib.axes._subplots.AxesSubplot at 0x7ff22db48850>"
      ]
     },
     "execution_count": 60,
     "metadata": {},
     "output_type": "execute_result"
    },
    {
     "data": {
      "image/png": "[encoded data removed]",
      "text/plain": [
       "<Figure size 864x432 with 1 Axes>"
      ]
     },
     "metadata": {
      "needs_background": "light"
     },
     "output_type": "display_data"
    }
   ],
   "source": [
    "fig, ax = plt.subplots(figsize=(12,6))\n",
    "pred_df.plot(ax=ax)"
   ]
  },
  {
   "cell_type": "code",
   "execution_count": null,
   "metadata": {},
   "outputs": [],
   "source": []
  }
 ],
 "metadata": {
  "kernelspec": {
   "display_name": "Python 3",
   "language": "python",
   "name": "python3"
  },
  "language_info": {
   "codemirror_mode": {
    "name": "ipython",
    "version": 3
   },
   "file_extension": ".py",
   "mimetype": "text/x-python",
   "name": "python",
   "nbconvert_exporter": "python",
   "pygments_lexer": "ipython3",
   "version": "3.7.6"
  }
 },
 "nbformat": 4,
 "nbformat_minor": 4
}
